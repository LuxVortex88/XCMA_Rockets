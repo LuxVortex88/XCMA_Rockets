{
  "nbformat": 4,
  "nbformat_minor": 0,
  "metadata": {
    "colab": {
      "provenance": [],
      "authorship_tag": "ABX9TyOveC+xBb+cNXeMorXqsOqs"
    },
    "kernelspec": {
      "name": "python3",
      "display_name": "Python 3"
    },
    "language_info": {
      "name": "python"
    }
  },
  "cells": [
    {
      "cell_type": "code",
      "execution_count": null,
      "metadata": {
        "colab": {
          "base_uri": "https://localhost:8080/"
        },
        "id": "eIkBiBtKZiKP",
        "outputId": "4b5aa2f3-ff69-4ecd-f638-1fef98f11361"
      },
      "outputs": [
        {
          "output_type": "stream",
          "name": "stdout",
          "text": [
            "Hour: Sun=False, Generated=10 kW, Load=3.0 kW, Battery=57.0 kWh\n",
            "Hour: Sun=False, Generated=10 kW, Load=3.0 kW, Battery=64.0 kWh\n",
            "Hour: Sun=False, Generated=10 kW, Load=3.0 kW, Battery=71.0 kWh\n",
            "Hour: Sun=False, Generated=10 kW, Load=3.0 kW, Battery=78.0 kWh\n",
            "Hour: Sun=False, Generated=10 kW, Load=3.0 kW, Battery=85.0 kWh\n",
            "Hour: Sun=False, Generated=10 kW, Load=3.0 kW, Battery=92.0 kWh\n",
            "Hour: Sun=True, Generated=5.0 kW, Load=3.0 kW, Battery=94.0 kWh\n",
            "Hour: Sun=True, Generated=5.0 kW, Load=3.0 kW, Battery=96.0 kWh\n",
            "Hour: Sun=True, Generated=5.0 kW, Load=3.0 kW, Battery=98.0 kWh\n",
            "Hour: Sun=True, Generated=5.0 kW, Load=3.0 kW, Battery=100.0 kWh\n",
            "Hour: Sun=True, Generated=5.0 kW, Load=3.0 kW, Battery=100 kWh\n",
            "Hour: Sun=True, Generated=5.0 kW, Load=3.0 kW, Battery=100 kWh\n",
            "Hour: Sun=True, Generated=5.0 kW, Load=3.0 kW, Battery=100 kWh\n",
            "Hour: Sun=True, Generated=5.0 kW, Load=3.0 kW, Battery=100 kWh\n",
            "Hour: Sun=True, Generated=5.0 kW, Load=3.0 kW, Battery=100 kWh\n",
            "Hour: Sun=True, Generated=5.0 kW, Load=3.0 kW, Battery=100 kWh\n",
            "Hour: Sun=True, Generated=5.0 kW, Load=3.0 kW, Battery=100 kWh\n",
            "Hour: Sun=True, Generated=5.0 kW, Load=3.0 kW, Battery=100 kWh\n",
            "Hour: Sun=True, Generated=5.0 kW, Load=3.0 kW, Battery=100 kWh\n",
            "Hour: Sun=False, Generated=10 kW, Load=3.0 kW, Battery=100 kWh\n",
            "Hour: Sun=False, Generated=10 kW, Load=3.0 kW, Battery=100 kWh\n",
            "Hour: Sun=False, Generated=10 kW, Load=3.0 kW, Battery=100 kWh\n",
            "Hour: Sun=False, Generated=10 kW, Load=3.0 kW, Battery=100 kWh\n",
            "Hour: Sun=False, Generated=10 kW, Load=3.0 kW, Battery=100 kWh\n"
          ]
        }
      ],
      "source": [
        "class XCMAPowerGrid:\n",
        "    def __init__(self, solar_kw=5.0, battery_kwh=50.0, load_kw=3.0):\n",
        "        self.solar_kw = solar_kw\n",
        "        self.battery_kwh = battery_kwh\n",
        "        self.load_kw = load_kw\n",
        "\n",
        "    def simulate_hour(self, sun=True):\n",
        "        generated = self.solar_kw if sun else 10\n",
        "        net = generated - self.load_kw\n",
        "\n",
        "        self.battery_kwh += net\n",
        "        self.battery_kwh = max(min(self.battery_kwh, 100), 0)\n",
        "\n",
        "        print(f\"Hour: Sun={sun}, Generated={generated} kW, Load={self.load_kw} kW, Battery={self.battery_kwh} kWh\")\n",
        "\n",
        "    def run_simulation(self, hours=24):\n",
        "        for hour in range(hours):\n",
        "            sun = 6 <= hour <= 18  # sun from 6 AM to 6 PM\n",
        "            self.simulate_hour(sun)\n",
        "\n",
        "# Example usage\n",
        "if __name__ == \"__main__\":\n",
        "    grid = XCMAPowerGrid()\n",
        "    grid.run_simulation()"
      ]
    },
    {
      "cell_type": "code",
      "source": [
        "\n",
        "class RocketFuelTank:\n",
        "    def __init__(self, diameter_m, height_m, fuel_density_kg_m3):\n",
        "        self.diameter = diameter_m\n",
        "        self.height = height_m\n",
        "        self.fuel_density = fuel_density_kg_m3\n",
        "\n",
        "    def calculate_volume(self):\n",
        "        from math import pi\n",
        "        radius = self.diameter / 2\n",
        "        return pi * radius ** 2 * self.height  # cubic meters\n",
        "\n",
        "    def calculate_mass(self):\n",
        "        volume = self.calculate_volume()\n",
        "        return volume * self.fuel_density\n",
        "\n",
        "# Example usage\n",
        "if __name__ == \"__main__\":\n",
        "    # Example for RP-1: density ~ 810 kg/m³\n",
        "    tank = RocketFuelTank(diameter_m=2.0, height_m=5.0, fuel_density_kg_m3=810)\n",
        "    print(f\"Tank volume: {tank.calculate_volume():.2f} m³\")\n",
        "    print(f\"Fuel mass: {tank.calculate_mass():.2f} kg\")"
      ],
      "metadata": {
        "colab": {
          "base_uri": "https://localhost:8080/"
        },
        "id": "cSktT0YIZ3HC",
        "outputId": "c38290be-823f-400a-afd5-f6b311ac151c"
      },
      "execution_count": null,
      "outputs": [
        {
          "output_type": "stream",
          "name": "stdout",
          "text": [
            "Tank volume: 15.71 m³\n",
            "Fuel mass: 12723.45 kg\n"
          ]
        }
      ]
    }
  ]
}